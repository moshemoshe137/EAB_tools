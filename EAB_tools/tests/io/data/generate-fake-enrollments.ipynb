{
 "cells": [
  {
   "cell_type": "code",
   "execution_count": null,
   "metadata": {},
   "outputs": [],
   "source": [
    "# This code was created with the help of AI\n",
    "from faker import Faker\n",
    "import numpy as np\n",
    "import pandas as pd\n",
    "\n",
    "fake = Faker()"
   ]
  },
  {
   "cell_type": "code",
   "execution_count": null,
   "metadata": {},
   "outputs": [],
   "source": [
    "np.random.seed(42)\n",
    "Faker.seed(42)"
   ]
  },
  {
   "cell_type": "code",
   "execution_count": null,
   "metadata": {},
   "outputs": [],
   "source": [
    "n_records = 27549"
   ]
  },
  {
   "cell_type": "code",
   "execution_count": null,
   "metadata": {},
   "outputs": [],
   "source": [
    "# Generate student data\n",
    "student_ids = [\n",
    "    f\"ID{''.join(np.random.choice(list('0123456789'), 9))}\" for _ in range(n_records)\n",
    "]\n",
    "student_names = [fake.name() for _ in range(n_records)]\n",
    "student_emails = [fake.email() for _ in range(n_records)]"
   ]
  },
  {
   "cell_type": "code",
   "execution_count": null,
   "metadata": {},
   "outputs": [],
   "source": [
    "# Categories and tags\n",
    "categories = [\n",
    "    \", \".join(\n",
    "        np.random.choice(\n",
    "            [\"Academic\", \"Extracurricular\", \"Financial\", \"Residential\", \"Online\"],\n",
    "            np.random.randint(1, 4),\n",
    "            replace=False,\n",
    "        )\n",
    "    )\n",
    "    for _ in range(n_records)\n",
    "]\n",
    "tags = [\n",
    "    np.random.choice(\n",
    "        [\"Active\", \"Pending\", \"Completed\", \"Enrolled\", \"\"],\n",
    "        p=[0.2, 0.2, 0.2, 0.2, 0.2],\n",
    "    )\n",
    "    for _ in range(n_records)\n",
    "]"
   ]
  },
  {
   "cell_type": "code",
   "execution_count": null,
   "metadata": {},
   "outputs": [],
   "source": [
    "# Academic info\n",
    "classifications = np.random.choice(\n",
    "    [\"Freshman\", \"Sophomore\", \"Junior\", \"Senior\", \"Graduate\"], n_records\n",
    ")\n",
    "majors = np.random.choice(\n",
    "    [\n",
    "        \"Computer Science\",\n",
    "        \"Business Administration\",\n",
    "        \"Psychology\",\n",
    "        \"Education\",\n",
    "        \"Engineering\",\n",
    "    ],\n",
    "    n_records,\n",
    ")\n",
    "gpas = np.clip(np.random.normal(3, 0.5, n_records), 0, 4)"
   ]
  },
  {
   "cell_type": "code",
   "execution_count": null,
   "metadata": {},
   "outputs": [],
   "source": [
    "# Course info\n",
    "course_depts = [\"MTH\", \"ENG\", \"HSC\", \"EDL\"]\n",
    "course_numbers = [\n",
    "    f\"{dept}-{str(i).zfill(3)}\" for dept in course_depts for i in range(1, 26)\n",
    "]  # 25 courses per dept\n",
    "course_titles = [\n",
    "    fake.unique.sentence(nb_words=3) for _ in range(len(course_numbers))\n",
    "]  # Unique course titles\n",
    "sections = [\"\".join(np.random.choice(list(\"0123456789\"), 5)) for _ in range(n_records)]\n",
    "instructors = [\n",
    "    f\"{fake.last_name()},\"\n",
    "    f\" {fake.first_name()} (ID{''.join(np.random.choice(list('0123456789'), 9))})\"\n",
    "    f\" <{fake.email()}>\"\n",
    "    for _ in range(150)\n",
    "]"
   ]
  },
  {
   "cell_type": "code",
   "execution_count": null,
   "metadata": {},
   "outputs": [],
   "source": [
    "# Enrollment info\n",
    "dropped = np.random.choice([\"Yes\", \"No\"], p=[0.24, 0.76], size=n_records)\n",
    "dropped_dates = [\n",
    "    fake.date_between(start_date=\"-1y\", end_date=\"today\") if drop == \"Yes\" else None\n",
    "    for drop in dropped\n",
    "]"
   ]
  },
  {
   "cell_type": "code",
   "execution_count": null,
   "metadata": {},
   "outputs": [],
   "source": [
    "# Grades\n",
    "midterm_grades = [\n",
    "    np.random.choice(\n",
    "        [\"A\", \"B\", \"C\", \"D\", \"F\", \"P\", \"I\"], p=[0.3, 0.25, 0.2, 0.1, 0.1, 0.025, 0.025]\n",
    "    )\n",
    "    for _ in range(n_records)\n",
    "]\n",
    "final_grades = [\n",
    "    np.random.choice(\n",
    "        [\"A\", \"B\", \"C\", \"D\", \"F\", \"P\", \"I\"], p=[0.3, 0.25, 0.2, 0.1, 0.1, 0.025, 0.025]\n",
    "    )\n",
    "    for _ in range(n_records)\n",
    "]"
   ]
  },
  {
   "cell_type": "code",
   "execution_count": null,
   "metadata": {},
   "outputs": [],
   "source": [
    "# Attendance\n",
    "total_progress_reports = np.random.poisson(0.4, n_records)\n",
    "absences = np.random.poisson(0.5, n_records)"
   ]
  },
  {
   "cell_type": "code",
   "execution_count": null,
   "metadata": {},
   "outputs": [],
   "source": [
    "# Schedule\n",
    "start_dates = [\n",
    "    fake.date_between(start_date=\"-3m\", end_date=\"+3m\") for _ in range(n_records)\n",
    "]\n",
    "end_dates = [start_date + pd.Timedelta(weeks=16) for start_date in start_dates]\n",
    "start_times = [f\"{hour}:00 AM CT\" for hour in np.random.choice(range(8, 12), n_records)]\n",
    "end_times = [\n",
    "    f\"{hour + np.random.choice([1, 2, 3])}:00 PM CT\"\n",
    "    for hour in np.random.choice(range(1, 5), n_records)\n",
    "]\n",
    "class_days = [\n",
    "    \", \".join(\n",
    "        np.random.choice(\n",
    "            [\"M\", \"T\", \"W\", \"R\", \"F\", \"Sa\"], size=np.random.randint(1, 3), replace=False\n",
    "        )\n",
    "    )\n",
    "    for _ in range(n_records)\n",
    "]"
   ]
  },
  {
   "cell_type": "code",
   "execution_count": null,
   "metadata": {},
   "outputs": [],
   "source": [
    "# Create DataFrame\n",
    "df = pd.DataFrame(\n",
    "    {\n",
    "        \"Student ID\": student_ids,\n",
    "        \"Student Name\": student_names,\n",
    "        \"Student Email\": student_emails,\n",
    "        \"Categories\": categories,\n",
    "        \"Tags\": tags,\n",
    "        \"Classification\": classifications,\n",
    "        \"Major\": majors,\n",
    "        \"Cumulative GPA\": gpas,\n",
    "        \"Course Number\": np.random.choice(course_numbers, n_records),\n",
    "        \"Course Title\": [\n",
    "            course_titles[course_numbers.index(num)]\n",
    "            for num in np.random.choice(course_numbers, n_records)\n",
    "        ],\n",
    "        \"Section\": np.random.choice(sections, n_records),\n",
    "        \"Instructors\": np.random.choice(instructors, n_records),\n",
    "        \"Dropped?\": dropped,\n",
    "        \"Dropped Date\": dropped_dates,\n",
    "        \"Midterm Grade\": midterm_grades,\n",
    "        \"Final Grade\": final_grades,\n",
    "        \"Total Progress Reports\": total_progress_reports,\n",
    "        \"Absences\": absences,\n",
    "        \"Start Date\": start_dates,\n",
    "        \"End Date\": end_dates,\n",
    "        \"Start Time\": start_times,\n",
    "        \"End Time\": end_times,\n",
    "        \"Class Days\": class_days,\n",
    "    }\n",
    ")"
   ]
  },
  {
   "cell_type": "code",
   "execution_count": null,
   "metadata": {},
   "outputs": [],
   "source": [
    "df"
   ]
  }
 ],
 "metadata": {
  "kernelspec": {
   "display_name": "EAB-tools-dev",
   "language": "python",
   "name": "python3"
  },
  "language_info": {
   "codemirror_mode": {
    "name": "ipython",
    "version": 3
   },
   "file_extension": ".py",
   "mimetype": "text/x-python",
   "name": "python",
   "nbconvert_exporter": "python",
   "pygments_lexer": "ipython3",
   "version": "3.11.6"
  }
 },
 "nbformat": 4,
 "nbformat_minor": 2
}
