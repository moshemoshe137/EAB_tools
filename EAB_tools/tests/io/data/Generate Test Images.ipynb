{
 "cells": [
  {
   "cell_type": "markdown",
   "id": "5fff888c",
   "metadata": {},
   "source": [
    "<h1>Table of Contents<span class=\"tocSkip\"></span></h1>\n",
    "<div class=\"toc\"><ul class=\"toc-item\"></ul></div>"
   ]
  },
  {
   "cell_type": "code",
   "execution_count": null,
   "id": "25121184",
   "metadata": {},
   "outputs": [],
   "source": [
    "import matplotlib.pyplot as plt\n",
    "\n",
    "%matplotlib\n",
    "import pandas as pd\n",
    "\n",
    "from EAB_tools import display_and_save_fig"
   ]
  },
  {
   "cell_type": "code",
   "execution_count": null,
   "id": "ba4c8484",
   "metadata": {},
   "outputs": [],
   "source": [
    "df = pd.read_csv(\"./iris.csv\")\n",
    "df"
   ]
  },
  {
   "cell_type": "code",
   "execution_count": null,
   "id": "6d122210",
   "metadata": {},
   "outputs": [],
   "source": [
    "fig, ax = plt.subplots(\n",
    "    subplot_kw={\n",
    "        \"xlabel\": \"SepalLength\",\n",
    "        \"ylabel\": \"SepalWidth\",\n",
    "        \"title\": \"test_expected_output\",\n",
    "    },\n",
    "    facecolor=\"white\",\n",
    ")\n",
    "for name in df.Name.unique():\n",
    "    ax.plot(\"SepalLength\", \"SepalWidth\", \"o\", data=df[df.Name == name], label=name)\n",
    "ax.legend()\n",
    "\n",
    "display_and_save_fig(fig, save_image=True, filename=\"test_expected_output\")"
   ]
  }
 ],
 "metadata": {
  "hide_input": false,
  "kernelspec": {
   "display_name": "Python 3 (ipykernel)",
   "language": "python",
   "name": "python3"
  },
  "language_info": {
   "codemirror_mode": {
    "name": "ipython",
    "version": 3
   },
   "file_extension": ".py",
   "mimetype": "text/x-python",
   "name": "python",
   "nbconvert_exporter": "python",
   "pygments_lexer": "ipython3",
   "version": "3.10.4"
  },
  "toc": {
   "base_numbering": 1,
   "nav_menu": {},
   "number_sections": true,
   "sideBar": true,
   "skip_h1_title": true,
   "title_cell": "Table of Contents",
   "title_sidebar": "Contents",
   "toc_cell": true,
   "toc_position": {},
   "toc_section_display": true,
   "toc_window_display": false
  }
 },
 "nbformat": 4,
 "nbformat_minor": 5
}
